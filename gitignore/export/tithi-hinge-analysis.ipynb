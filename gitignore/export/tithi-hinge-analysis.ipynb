{
 "cells": [
  {
   "cell_type": "code",
   "execution_count": 37,
   "id": "44b4edb9-f691-4d8a-83f9-07f90211f35f",
   "metadata": {},
   "outputs": [
    {
     "data": {
      "text/html": [
       "<div>\n",
       "<style scoped>\n",
       "    .dataframe tbody tr th:only-of-type {\n",
       "        vertical-align: middle;\n",
       "    }\n",
       "\n",
       "    .dataframe tbody tr th {\n",
       "        vertical-align: top;\n",
       "    }\n",
       "\n",
       "    .dataframe thead th {\n",
       "        text-align: right;\n",
       "    }\n",
       "</style>\n",
       "<table border=\"1\" class=\"dataframe\">\n",
       "  <thead>\n",
       "    <tr style=\"text-align: right;\">\n",
       "      <th></th>\n",
       "      <th>like</th>\n",
       "      <th>chats</th>\n",
       "      <th>block</th>\n",
       "      <th>match</th>\n",
       "      <th>voice_notes</th>\n",
       "      <th>we_met</th>\n",
       "    </tr>\n",
       "  </thead>\n",
       "  <tbody>\n",
       "    <tr>\n",
       "      <th>0</th>\n",
       "      <td>[{'timestamp': '2025-01-18 18:24:57', 'like': ...</td>\n",
       "      <td>NaN</td>\n",
       "      <td>NaN</td>\n",
       "      <td>NaN</td>\n",
       "      <td>NaN</td>\n",
       "      <td>NaN</td>\n",
       "    </tr>\n",
       "    <tr>\n",
       "      <th>1</th>\n",
       "      <td>[{'timestamp': '2025-01-01 17:40:36', 'like': ...</td>\n",
       "      <td>NaN</td>\n",
       "      <td>NaN</td>\n",
       "      <td>NaN</td>\n",
       "      <td>NaN</td>\n",
       "      <td>NaN</td>\n",
       "    </tr>\n",
       "    <tr>\n",
       "      <th>2</th>\n",
       "      <td>[{'timestamp': '2025-01-18 18:25:32', 'like': ...</td>\n",
       "      <td>NaN</td>\n",
       "      <td>NaN</td>\n",
       "      <td>NaN</td>\n",
       "      <td>NaN</td>\n",
       "      <td>NaN</td>\n",
       "    </tr>\n",
       "    <tr>\n",
       "      <th>3</th>\n",
       "      <td>[{'timestamp': '2024-12-16 03:27:24', 'like': ...</td>\n",
       "      <td>NaN</td>\n",
       "      <td>NaN</td>\n",
       "      <td>NaN</td>\n",
       "      <td>NaN</td>\n",
       "      <td>NaN</td>\n",
       "    </tr>\n",
       "    <tr>\n",
       "      <th>4</th>\n",
       "      <td>[{'timestamp': '2025-01-18 18:26:17', 'like': ...</td>\n",
       "      <td>NaN</td>\n",
       "      <td>NaN</td>\n",
       "      <td>NaN</td>\n",
       "      <td>NaN</td>\n",
       "      <td>NaN</td>\n",
       "    </tr>\n",
       "    <tr>\n",
       "      <th>...</th>\n",
       "      <td>...</td>\n",
       "      <td>...</td>\n",
       "      <td>...</td>\n",
       "      <td>...</td>\n",
       "      <td>...</td>\n",
       "      <td>...</td>\n",
       "    </tr>\n",
       "    <tr>\n",
       "      <th>2835</th>\n",
       "      <td>NaN</td>\n",
       "      <td>NaN</td>\n",
       "      <td>NaN</td>\n",
       "      <td>[{'timestamp': '2024-09-03 06:59:16'}]</td>\n",
       "      <td>NaN</td>\n",
       "      <td>NaN</td>\n",
       "    </tr>\n",
       "    <tr>\n",
       "      <th>2836</th>\n",
       "      <td>NaN</td>\n",
       "      <td>NaN</td>\n",
       "      <td>NaN</td>\n",
       "      <td>[{'timestamp': '2024-09-29 06:02:29'}]</td>\n",
       "      <td>NaN</td>\n",
       "      <td>NaN</td>\n",
       "    </tr>\n",
       "    <tr>\n",
       "      <th>2837</th>\n",
       "      <td>NaN</td>\n",
       "      <td>NaN</td>\n",
       "      <td>NaN</td>\n",
       "      <td>[{'timestamp': '2024-12-09 05:03:08'}]</td>\n",
       "      <td>NaN</td>\n",
       "      <td>NaN</td>\n",
       "    </tr>\n",
       "    <tr>\n",
       "      <th>2838</th>\n",
       "      <td>NaN</td>\n",
       "      <td>NaN</td>\n",
       "      <td>NaN</td>\n",
       "      <td>[{'timestamp': '2024-12-31 13:21:26'}]</td>\n",
       "      <td>NaN</td>\n",
       "      <td>NaN</td>\n",
       "    </tr>\n",
       "    <tr>\n",
       "      <th>2839</th>\n",
       "      <td>NaN</td>\n",
       "      <td>NaN</td>\n",
       "      <td>NaN</td>\n",
       "      <td>[{'timestamp': '2025-01-06 10:22:54'}]</td>\n",
       "      <td>NaN</td>\n",
       "      <td>NaN</td>\n",
       "    </tr>\n",
       "  </tbody>\n",
       "</table>\n",
       "<p>2840 rows × 6 columns</p>\n",
       "</div>"
      ],
      "text/plain": [
       "                                                   like chats block  \\\n",
       "0     [{'timestamp': '2025-01-18 18:24:57', 'like': ...   NaN   NaN   \n",
       "1     [{'timestamp': '2025-01-01 17:40:36', 'like': ...   NaN   NaN   \n",
       "2     [{'timestamp': '2025-01-18 18:25:32', 'like': ...   NaN   NaN   \n",
       "3     [{'timestamp': '2024-12-16 03:27:24', 'like': ...   NaN   NaN   \n",
       "4     [{'timestamp': '2025-01-18 18:26:17', 'like': ...   NaN   NaN   \n",
       "...                                                 ...   ...   ...   \n",
       "2835                                                NaN   NaN   NaN   \n",
       "2836                                                NaN   NaN   NaN   \n",
       "2837                                                NaN   NaN   NaN   \n",
       "2838                                                NaN   NaN   NaN   \n",
       "2839                                                NaN   NaN   NaN   \n",
       "\n",
       "                                       match voice_notes we_met  \n",
       "0                                        NaN         NaN    NaN  \n",
       "1                                        NaN         NaN    NaN  \n",
       "2                                        NaN         NaN    NaN  \n",
       "3                                        NaN         NaN    NaN  \n",
       "4                                        NaN         NaN    NaN  \n",
       "...                                      ...         ...    ...  \n",
       "2835  [{'timestamp': '2024-09-03 06:59:16'}]         NaN    NaN  \n",
       "2836  [{'timestamp': '2024-09-29 06:02:29'}]         NaN    NaN  \n",
       "2837  [{'timestamp': '2024-12-09 05:03:08'}]         NaN    NaN  \n",
       "2838  [{'timestamp': '2024-12-31 13:21:26'}]         NaN    NaN  \n",
       "2839  [{'timestamp': '2025-01-06 10:22:54'}]         NaN    NaN  \n",
       "\n",
       "[2840 rows x 6 columns]"
      ]
     },
     "execution_count": 37,
     "metadata": {},
     "output_type": "execute_result"
    }
   ],
   "source": [
    "import pandas as pd\n",
    "import json\n",
    "\n",
    "# Load JSON file\n",
    "with open('matches.json', 'r') as file:\n",
    "    data = json.load(file)\n",
    "\n",
    "df = pd.DataFrame(data)\n",
    "\n",
    "df"
   ]
  },
  {
   "cell_type": "code",
   "execution_count": 34,
   "id": "56b3f163-c467-4523-8650-b79494ec6663",
   "metadata": {},
   "outputs": [
    {
     "data": {
      "text/plain": [
       "974"
      ]
     },
     "execution_count": 34,
     "metadata": {},
     "output_type": "execute_result"
    }
   ],
   "source": [
    "#calculating likes sent\n",
    "df['like'].notna().sum()"
   ]
  },
  {
   "cell_type": "code",
   "execution_count": 36,
   "id": "2f88b813-b286-4d9f-8785-c42bc2e04281",
   "metadata": {},
   "outputs": [
    {
     "name": "stdout",
     "output_type": "stream",
     "text": [
      "134\n"
     ]
    }
   ],
   "source": [
    "#calculating likes_received\n",
    "likes_received = df[\n",
    "    df.filter(regex='match').notna().any(axis=1) & \n",
    "    df.filter(regex='like').isna().all(axis=1)\n",
    "].shape[0]\n",
    "\n",
    "print(likes_received)"
   ]
  },
  {
   "cell_type": "code",
   "execution_count": 37,
   "id": "6cd13926-2e18-438a-8000-6ecac9d59ace",
   "metadata": {},
   "outputs": [
    {
     "data": {
      "text/plain": [
       "355"
      ]
     },
     "execution_count": 37,
     "metadata": {},
     "output_type": "execute_result"
    }
   ],
   "source": [
    "#total matches from both\n",
    "df['match'].notna().sum()"
   ]
  },
  {
   "cell_type": "code",
   "execution_count": 16,
   "id": "7cf6bb6a-bb9d-4ec0-9cf4-9af210fcba6c",
   "metadata": {},
   "outputs": [
    {
     "data": {
      "text/plain": [
       "253"
      ]
     },
     "execution_count": 16,
     "metadata": {},
     "output_type": "execute_result"
    }
   ],
   "source": [
    "df['chats'].notna().sum()"
   ]
  },
  {
   "cell_type": "code",
   "execution_count": 28,
   "id": "1d1d1236-2da2-4ae1-9f00-efc07df0a964",
   "metadata": {},
   "outputs": [
    {
     "data": {
      "text/plain": [
       "6"
      ]
     },
     "execution_count": 28,
     "metadata": {},
     "output_type": "execute_result"
    }
   ],
   "source": [
    "df['we_met'].notna().sum()"
   ]
  },
  {
   "cell_type": "code",
   "execution_count": 42,
   "id": "ec496311-0cd6-4cbc-8937-93ba6c1072b6",
   "metadata": {},
   "outputs": [
    {
     "data": {
      "text/plain": [
       "2055"
      ]
     },
     "execution_count": 42,
     "metadata": {},
     "output_type": "execute_result"
    }
   ],
   "source": [
    "df['block'].notna().sum()"
   ]
  },
  {
   "cell_type": "code",
   "execution_count": 39,
   "id": "7b1d898b-6574-4cde-915c-d7214a2399a3",
   "metadata": {},
   "outputs": [
    {
     "name": "stdout",
     "output_type": "stream",
     "text": [
      "  like_month  count\n",
      "0    2024-06     38\n",
      "1    2024-07     48\n",
      "2    2024-08      9\n",
      "3    2024-09     19\n",
      "4    2024-10     27\n",
      "5    2024-11     40\n",
      "6    2024-12     25\n",
      "7    2025-01     15\n"
     ]
    },
    {
     "name": "stderr",
     "output_type": "stream",
     "text": [
      "/var/folders/3t/356b2m1s0713vmrmjlw72vfm0000gn/T/ipykernel_11493/2101077841.py:1: SettingWithCopyWarning: \n",
      "A value is trying to be set on a copy of a slice from a DataFrame.\n",
      "Try using .loc[row_indexer,col_indexer] = value instead\n",
      "\n",
      "See the caveats in the documentation: https://pandas.pydata.org/pandas-docs/stable/user_guide/indexing.html#returning-a-view-versus-a-copy\n",
      "  df['like_time'] = df['like'].apply(lambda x: pd.to_datetime(x[0]['timestamp']) if isinstance(x, list) and len(x) > 0 else None)\n"
     ]
    }
   ],
   "source": [
    "#Extracting time from the likes sent\n",
    "df['like_time'] = df['like'].apply(lambda x: pd.to_datetime(x[0]['timestamp']) if isinstance(x, list) and len(x) > 0 else None)\n",
    "\n",
    "#Filtering to all non-na values\n",
    "df = df[df['like_time'].notna()]\n",
    "\n",
    "#Extracting date from full timestamp including hour\n",
    "df['like_date'] = df['like_time'].dt.date\n",
    "\n",
    "#Extracting month from date\n",
    "df['like_month'] = df['like_time'].dt.to_period('M')\n",
    "\n",
    "#Grouping by month\n",
    "monthly_counts = df.groupby('like_month').size().reset_index(name='count')\n",
    "\n",
    "\n",
    "print(monthly_counts)\n",
    "monthly_counts.to_csv(\"tithi-monthly-likes-sent.csv\")"
   ]
  },
  {
   "cell_type": "markdown",
   "id": "73e0f893-53c1-4d61-837c-77f9eb6dc56c",
   "metadata": {},
   "source": [
    "### Manav's data"
   ]
  },
  {
   "cell_type": "code",
   "execution_count": 40,
   "id": "530f00fb-aa27-40dd-b3fe-0ffdbf2c7a3b",
   "metadata": {},
   "outputs": [],
   "source": [
    "with open('manav_matches.json', 'r') as file:\n",
    "    data = json.load(file)"
   ]
  },
  {
   "cell_type": "code",
   "execution_count": 41,
   "id": "40866333-5a71-4973-83ae-b79e4eb19a89",
   "metadata": {},
   "outputs": [
    {
     "data": {
      "text/html": [
       "<div>\n",
       "<style scoped>\n",
       "    .dataframe tbody tr th:only-of-type {\n",
       "        vertical-align: middle;\n",
       "    }\n",
       "\n",
       "    .dataframe tbody tr th {\n",
       "        vertical-align: top;\n",
       "    }\n",
       "\n",
       "    .dataframe thead th {\n",
       "        text-align: right;\n",
       "    }\n",
       "</style>\n",
       "<table border=\"1\" class=\"dataframe\">\n",
       "  <thead>\n",
       "    <tr style=\"text-align: right;\">\n",
       "      <th></th>\n",
       "      <th>we_met</th>\n",
       "      <th>match</th>\n",
       "      <th>voice_notes</th>\n",
       "      <th>chats</th>\n",
       "      <th>like</th>\n",
       "      <th>block</th>\n",
       "    </tr>\n",
       "  </thead>\n",
       "  <tbody>\n",
       "    <tr>\n",
       "      <th>0</th>\n",
       "      <td>[{'timestamp': '2024-06-15 04:08:10.109', 'did...</td>\n",
       "      <td>[{'timestamp': '2024-06-05 13:38:56'}]</td>\n",
       "      <td>[{'url': 'http://media.hingenexus.com/video/au...</td>\n",
       "      <td>[{'body': 'Oh you are from dhanbad I had seen'...</td>\n",
       "      <td>[{'timestamp': '2024-06-04 17:13:24', 'like': ...</td>\n",
       "      <td>NaN</td>\n",
       "    </tr>\n",
       "    <tr>\n",
       "      <th>1</th>\n",
       "      <td>[{'timestamp': '2024-06-16 04:56:54.602', 'did...</td>\n",
       "      <td>[{'timestamp': '2024-06-05 07:54:28'}]</td>\n",
       "      <td>NaN</td>\n",
       "      <td>[{'body': 'We can hangout tomorrow though', 't...</td>\n",
       "      <td>[{'timestamp': '2024-06-03 13:50:44', 'like': ...</td>\n",
       "      <td>NaN</td>\n",
       "    </tr>\n",
       "    <tr>\n",
       "      <th>2</th>\n",
       "      <td>[{'timestamp': '2024-06-30 11:45:51', 'did_mee...</td>\n",
       "      <td>[{'timestamp': '2024-06-18 15:58:43'}]</td>\n",
       "      <td>NaN</td>\n",
       "      <td>[{'body': 'I stay in Borivali', 'timestamp': '...</td>\n",
       "      <td>[{'timestamp': '2024-06-11 03:25:00', 'like': ...</td>\n",
       "      <td>NaN</td>\n",
       "    </tr>\n",
       "    <tr>\n",
       "      <th>3</th>\n",
       "      <td>[{'timestamp': '2024-08-03 19:41:30', 'did_mee...</td>\n",
       "      <td>[{'timestamp': '2024-07-25 19:03:02'}]</td>\n",
       "      <td>NaN</td>\n",
       "      <td>[{'body': 'Western line is the Og', 'timestamp...</td>\n",
       "      <td>[{'timestamp': '2024-07-25 16:55:38', 'like': ...</td>\n",
       "      <td>NaN</td>\n",
       "    </tr>\n",
       "    <tr>\n",
       "      <th>4</th>\n",
       "      <td>[{'timestamp': '2024-08-03 20:26:24', 'did_mee...</td>\n",
       "      <td>[{'timestamp': '2024-07-25 22:46:42'}]</td>\n",
       "      <td>NaN</td>\n",
       "      <td>[{'body': 'Lmao', 'timestamp': '2024-07-26 14:...</td>\n",
       "      <td>[{'timestamp': '2024-07-24 01:37:51', 'like': ...</td>\n",
       "      <td>NaN</td>\n",
       "    </tr>\n",
       "    <tr>\n",
       "      <th>...</th>\n",
       "      <td>...</td>\n",
       "      <td>...</td>\n",
       "      <td>...</td>\n",
       "      <td>...</td>\n",
       "      <td>...</td>\n",
       "      <td>...</td>\n",
       "    </tr>\n",
       "    <tr>\n",
       "      <th>2405</th>\n",
       "      <td>NaN</td>\n",
       "      <td>NaN</td>\n",
       "      <td>NaN</td>\n",
       "      <td>NaN</td>\n",
       "      <td>[{'timestamp': '2025-02-25 08:29:05', 'like': ...</td>\n",
       "      <td>NaN</td>\n",
       "    </tr>\n",
       "    <tr>\n",
       "      <th>2406</th>\n",
       "      <td>NaN</td>\n",
       "      <td>NaN</td>\n",
       "      <td>NaN</td>\n",
       "      <td>NaN</td>\n",
       "      <td>[{'timestamp': '2025-02-25 08:29:37', 'like': ...</td>\n",
       "      <td>NaN</td>\n",
       "    </tr>\n",
       "    <tr>\n",
       "      <th>2407</th>\n",
       "      <td>NaN</td>\n",
       "      <td>NaN</td>\n",
       "      <td>NaN</td>\n",
       "      <td>NaN</td>\n",
       "      <td>[{'timestamp': '2025-02-25 08:29:59', 'like': ...</td>\n",
       "      <td>NaN</td>\n",
       "    </tr>\n",
       "    <tr>\n",
       "      <th>2408</th>\n",
       "      <td>NaN</td>\n",
       "      <td>NaN</td>\n",
       "      <td>NaN</td>\n",
       "      <td>NaN</td>\n",
       "      <td>[{'timestamp': '2025-02-26 05:35:16', 'like': ...</td>\n",
       "      <td>NaN</td>\n",
       "    </tr>\n",
       "    <tr>\n",
       "      <th>2409</th>\n",
       "      <td>NaN</td>\n",
       "      <td>NaN</td>\n",
       "      <td>NaN</td>\n",
       "      <td>NaN</td>\n",
       "      <td>[{'timestamp': '2025-02-26 06:07:06', 'like': ...</td>\n",
       "      <td>NaN</td>\n",
       "    </tr>\n",
       "  </tbody>\n",
       "</table>\n",
       "<p>2410 rows × 6 columns</p>\n",
       "</div>"
      ],
      "text/plain": [
       "                                                 we_met  \\\n",
       "0     [{'timestamp': '2024-06-15 04:08:10.109', 'did...   \n",
       "1     [{'timestamp': '2024-06-16 04:56:54.602', 'did...   \n",
       "2     [{'timestamp': '2024-06-30 11:45:51', 'did_mee...   \n",
       "3     [{'timestamp': '2024-08-03 19:41:30', 'did_mee...   \n",
       "4     [{'timestamp': '2024-08-03 20:26:24', 'did_mee...   \n",
       "...                                                 ...   \n",
       "2405                                                NaN   \n",
       "2406                                                NaN   \n",
       "2407                                                NaN   \n",
       "2408                                                NaN   \n",
       "2409                                                NaN   \n",
       "\n",
       "                                       match  \\\n",
       "0     [{'timestamp': '2024-06-05 13:38:56'}]   \n",
       "1     [{'timestamp': '2024-06-05 07:54:28'}]   \n",
       "2     [{'timestamp': '2024-06-18 15:58:43'}]   \n",
       "3     [{'timestamp': '2024-07-25 19:03:02'}]   \n",
       "4     [{'timestamp': '2024-07-25 22:46:42'}]   \n",
       "...                                      ...   \n",
       "2405                                     NaN   \n",
       "2406                                     NaN   \n",
       "2407                                     NaN   \n",
       "2408                                     NaN   \n",
       "2409                                     NaN   \n",
       "\n",
       "                                            voice_notes  \\\n",
       "0     [{'url': 'http://media.hingenexus.com/video/au...   \n",
       "1                                                   NaN   \n",
       "2                                                   NaN   \n",
       "3                                                   NaN   \n",
       "4                                                   NaN   \n",
       "...                                                 ...   \n",
       "2405                                                NaN   \n",
       "2406                                                NaN   \n",
       "2407                                                NaN   \n",
       "2408                                                NaN   \n",
       "2409                                                NaN   \n",
       "\n",
       "                                                  chats  \\\n",
       "0     [{'body': 'Oh you are from dhanbad I had seen'...   \n",
       "1     [{'body': 'We can hangout tomorrow though', 't...   \n",
       "2     [{'body': 'I stay in Borivali', 'timestamp': '...   \n",
       "3     [{'body': 'Western line is the Og', 'timestamp...   \n",
       "4     [{'body': 'Lmao', 'timestamp': '2024-07-26 14:...   \n",
       "...                                                 ...   \n",
       "2405                                                NaN   \n",
       "2406                                                NaN   \n",
       "2407                                                NaN   \n",
       "2408                                                NaN   \n",
       "2409                                                NaN   \n",
       "\n",
       "                                                   like block  \n",
       "0     [{'timestamp': '2024-06-04 17:13:24', 'like': ...   NaN  \n",
       "1     [{'timestamp': '2024-06-03 13:50:44', 'like': ...   NaN  \n",
       "2     [{'timestamp': '2024-06-11 03:25:00', 'like': ...   NaN  \n",
       "3     [{'timestamp': '2024-07-25 16:55:38', 'like': ...   NaN  \n",
       "4     [{'timestamp': '2024-07-24 01:37:51', 'like': ...   NaN  \n",
       "...                                                 ...   ...  \n",
       "2405  [{'timestamp': '2025-02-25 08:29:05', 'like': ...   NaN  \n",
       "2406  [{'timestamp': '2025-02-25 08:29:37', 'like': ...   NaN  \n",
       "2407  [{'timestamp': '2025-02-25 08:29:59', 'like': ...   NaN  \n",
       "2408  [{'timestamp': '2025-02-26 05:35:16', 'like': ...   NaN  \n",
       "2409  [{'timestamp': '2025-02-26 06:07:06', 'like': ...   NaN  \n",
       "\n",
       "[2410 rows x 6 columns]"
      ]
     },
     "execution_count": 41,
     "metadata": {},
     "output_type": "execute_result"
    }
   ],
   "source": [
    "df = pd.DataFrame(data)\n",
    "df"
   ]
  },
  {
   "cell_type": "code",
   "execution_count": 42,
   "id": "61c8699d-4ceb-4264-b877-7bbd60127483",
   "metadata": {},
   "outputs": [
    {
     "data": {
      "text/plain": [
       "2320"
      ]
     },
     "execution_count": 42,
     "metadata": {},
     "output_type": "execute_result"
    }
   ],
   "source": [
    "#likes sent\n",
    "df['like'].notna().sum()"
   ]
  },
  {
   "cell_type": "code",
   "execution_count": 6,
   "id": "4ce583ae-a31f-45a3-b508-77910115bc5f",
   "metadata": {},
   "outputs": [
    {
     "name": "stdout",
     "output_type": "stream",
     "text": [
      "68\n"
     ]
    }
   ],
   "source": [
    "#calculating likes_received\n",
    "likes_received = df[\n",
    "    df.filter(regex='match').notna().any(axis=1) & \n",
    "    df.filter(regex='like').isna().all(axis=1)\n",
    "].shape[0]\n",
    "\n",
    "print(likes_received)"
   ]
  },
  {
   "cell_type": "code",
   "execution_count": 7,
   "id": "6c082a45-48d9-4025-9919-76d89dfa8478",
   "metadata": {},
   "outputs": [
    {
     "data": {
      "text/plain": [
       "288"
      ]
     },
     "execution_count": 7,
     "metadata": {},
     "output_type": "execute_result"
    }
   ],
   "source": [
    "#total matches from both\n",
    "df['match'].notna().sum()"
   ]
  },
  {
   "cell_type": "code",
   "execution_count": 8,
   "id": "2b0fb346-12dd-4971-b06e-036838e16b3d",
   "metadata": {},
   "outputs": [
    {
     "data": {
      "text/plain": [
       "234"
      ]
     },
     "execution_count": 8,
     "metadata": {},
     "output_type": "execute_result"
    }
   ],
   "source": [
    "df['chats'].notna().sum()"
   ]
  },
  {
   "cell_type": "code",
   "execution_count": 9,
   "id": "cfabe6be-5026-4476-b5c1-ac3e1f90d947",
   "metadata": {},
   "outputs": [
    {
     "data": {
      "text/plain": [
       "8"
      ]
     },
     "execution_count": 9,
     "metadata": {},
     "output_type": "execute_result"
    }
   ],
   "source": [
    "df['we_met'].notna().sum()"
   ]
  },
  {
   "cell_type": "code",
   "execution_count": 10,
   "id": "479ecf18-ecc2-4d7c-b31d-eb9f90802697",
   "metadata": {},
   "outputs": [
    {
     "data": {
      "text/plain": [
       "64"
      ]
     },
     "execution_count": 10,
     "metadata": {},
     "output_type": "execute_result"
    }
   ],
   "source": [
    "df['block'].notna().sum()"
   ]
  },
  {
   "cell_type": "code",
   "execution_count": 43,
   "id": "d43c1306-1a1d-43fd-a08f-d447df022efb",
   "metadata": {},
   "outputs": [
    {
     "name": "stdout",
     "output_type": "stream",
     "text": [
      "   like_month  count\n",
      "0     2023-12     39\n",
      "1     2024-01     12\n",
      "2     2024-05     49\n",
      "3     2024-06    148\n",
      "4     2024-07    121\n",
      "5     2024-08    167\n",
      "6     2024-09     95\n",
      "7     2024-10    125\n",
      "8     2024-11     86\n",
      "9     2024-12    178\n",
      "10    2025-01     41\n",
      "11    2025-02   1259\n"
     ]
    },
    {
     "name": "stderr",
     "output_type": "stream",
     "text": [
      "/var/folders/3t/356b2m1s0713vmrmjlw72vfm0000gn/T/ipykernel_11493/1279492048.py:8: SettingWithCopyWarning: \n",
      "A value is trying to be set on a copy of a slice from a DataFrame.\n",
      "Try using .loc[row_indexer,col_indexer] = value instead\n",
      "\n",
      "See the caveats in the documentation: https://pandas.pydata.org/pandas-docs/stable/user_guide/indexing.html#returning-a-view-versus-a-copy\n",
      "  df['like_date'] = df['like_time'].dt.date\n",
      "/var/folders/3t/356b2m1s0713vmrmjlw72vfm0000gn/T/ipykernel_11493/1279492048.py:11: SettingWithCopyWarning: \n",
      "A value is trying to be set on a copy of a slice from a DataFrame.\n",
      "Try using .loc[row_indexer,col_indexer] = value instead\n",
      "\n",
      "See the caveats in the documentation: https://pandas.pydata.org/pandas-docs/stable/user_guide/indexing.html#returning-a-view-versus-a-copy\n",
      "  df['like_month'] = df['like_time'].dt.to_period('M')\n"
     ]
    }
   ],
   "source": [
    "#Extracting time from the likes sent\n",
    "df['like_time'] = df['like'].apply(lambda x: pd.to_datetime(x[0]['timestamp']) if isinstance(x, list) and len(x) > 0 else None)\n",
    "\n",
    "#Filtering to all non-na values\n",
    "df = df[df['like_time'].notna()]\n",
    "\n",
    "#Extracting date from full timestamp including hour\n",
    "df['like_date'] = df['like_time'].dt.date\n",
    "\n",
    "#Extracting month from date\n",
    "df['like_month'] = df['like_time'].dt.to_period('M')\n",
    "\n",
    "#Grouping by month\n",
    "monthly_counts = df.groupby('like_month').size().reset_index(name='count')\n",
    "\n",
    "\n",
    "print(monthly_counts)\n",
    "monthly_counts.to_csv(\"manav-monthly-likes-sent.csv\")"
   ]
  },
  {
   "cell_type": "code",
   "execution_count": null,
   "id": "8cdbfadf-2f2f-409f-90eb-4daec60247ba",
   "metadata": {},
   "outputs": [],
   "source": []
  }
 ],
 "metadata": {
  "kernelspec": {
   "display_name": "Python 3 (ipykernel)",
   "language": "python",
   "name": "python3"
  },
  "language_info": {
   "codemirror_mode": {
    "name": "ipython",
    "version": 3
   },
   "file_extension": ".py",
   "mimetype": "text/x-python",
   "name": "python",
   "nbconvert_exporter": "python",
   "pygments_lexer": "ipython3",
   "version": "3.12.7"
  }
 },
 "nbformat": 4,
 "nbformat_minor": 5
}
